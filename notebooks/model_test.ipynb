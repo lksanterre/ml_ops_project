{
 "cells": [
  {
   "cell_type": "code",
   "execution_count": 1,
   "metadata": {},
   "outputs": [],
   "source": [
    "import great_expectations as ge\n",
    "import pandas as pd "
   ]
  },
  {
   "cell_type": "code",
   "execution_count": 2,
   "metadata": {},
   "outputs": [
    {
     "ename": "AttributeError",
     "evalue": "module 'great_expectations' has no attribute 'dataset'",
     "output_type": "error",
     "traceback": [
      "\u001b[0;31m---------------------------------------------------------------------------\u001b[0m",
      "\u001b[0;31mAttributeError\u001b[0m                            Traceback (most recent call last)",
      "Cell \u001b[0;32mIn[2], line 2\u001b[0m\n\u001b[1;32m      1\u001b[0m train \u001b[39m=\u001b[39m pd\u001b[39m.\u001b[39mread_csv(\u001b[39m'\u001b[39m\u001b[39mquestions_outputs.csv\u001b[39m\u001b[39m'\u001b[39m)\n\u001b[0;32m----> 2\u001b[0m train_df \u001b[39m=\u001b[39m ge\u001b[39m.\u001b[39;49mdataset\u001b[39m.\u001b[39mPandasDataset(train)\n",
      "\u001b[0;31mAttributeError\u001b[0m: module 'great_expectations' has no attribute 'dataset'"
     ]
    }
   ],
   "source": [
    "train = pd.read_csv('questions_outputs.csv')\n",
    "train_df = ge.dataset.PandasDataset(train)\n"
   ]
  },
  {
   "cell_type": "code",
   "execution_count": 3,
   "metadata": {},
   "outputs": [
    {
     "name": "stdout",
     "output_type": "stream",
     "text": [
      "Train DataFrame columns: Index(['Question', 'Output'], dtype='object')\n"
     ]
    },
    {
     "ename": "AttributeError",
     "evalue": "module 'great_expectations' has no attribute 'dataset'",
     "output_type": "error",
     "traceback": [
      "\u001b[0;31m---------------------------------------------------------------------------\u001b[0m",
      "\u001b[0;31mAttributeError\u001b[0m                            Traceback (most recent call last)",
      "Cell \u001b[0;32mIn[3], line 18\u001b[0m\n\u001b[1;32m     14\u001b[0m \u001b[39mprint\u001b[39m(\u001b[39m\"\u001b[39m\u001b[39mTrain DataFrame columns:\u001b[39m\u001b[39m\"\u001b[39m, train\u001b[39m.\u001b[39mcolumns)\n\u001b[1;32m     17\u001b[0m \u001b[39m# Create Great Expectations datasets from the Pandas DataFrames\u001b[39;00m\n\u001b[0;32m---> 18\u001b[0m train_df \u001b[39m=\u001b[39m ge\u001b[39m.\u001b[39;49mdataset\u001b[39m.\u001b[39mPandasDataset(train)\n\u001b[1;32m     20\u001b[0m \u001b[39m# Display the first few rows of the Great Expectations dataset\u001b[39;00m\n\u001b[1;32m     21\u001b[0m \u001b[39mprint\u001b[39m(train_df\u001b[39m.\u001b[39mhead())\n",
      "\u001b[0;31mAttributeError\u001b[0m: module 'great_expectations' has no attribute 'dataset'"
     ]
    }
   ],
   "source": [
    "\n",
    "\n",
    "# Define column names\n",
    "col_names = [\n",
    "    'Question' ,'Output']\n",
    "\n",
    "\n",
    "\n",
    "# Read data, add headers, and save as new CSV files\n",
    "train = pd.read_csv(f\"/Users/lancesanterre/intern_2024/notebooks/questions_outputs.csv\", names=col_names)\n",
    "\n",
    "\n",
    "# Reload the data from the new CSV files to ensure headers are correct\n",
    "\n",
    "# Check if column names are consistent\n",
    "print(\"Train DataFrame columns:\", train.columns)\n",
    "\n",
    "\n",
    "# Create Great Expectations datasets from the Pandas DataFrames\n",
    "train_df = ge.dataset.PandasDataset(train)\n",
    "\n",
    "# Display the first few rows of the Great Expectations dataset\n",
    "print(train_df.head())\n"
   ]
  }
 ],
 "metadata": {
  "kernelspec": {
   "display_name": "intern",
   "language": "python",
   "name": "python3"
  },
  "language_info": {
   "codemirror_mode": {
    "name": "ipython",
    "version": 3
   },
   "file_extension": ".py",
   "mimetype": "text/x-python",
   "name": "python",
   "nbconvert_exporter": "python",
   "pygments_lexer": "ipython3",
   "version": "3.11.9"
  },
  "orig_nbformat": 4
 },
 "nbformat": 4,
 "nbformat_minor": 2
}
