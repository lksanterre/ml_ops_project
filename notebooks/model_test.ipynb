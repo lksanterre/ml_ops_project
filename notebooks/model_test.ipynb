{
 "cells": [
  {
   "cell_type": "code",
   "execution_count": 1,
   "metadata": {},
   "outputs": [],
   "source": [
    "import great_expectations as ge\n",
    "import pandas as pd "
   ]
  },
  {
   "cell_type": "code",
   "execution_count": 3,
   "metadata": {},
   "outputs": [
    {
     "name": "stdout",
     "output_type": "stream",
     "text": [
      "Train DataFrame columns: Index(['Question', 'Output'], dtype='object')\n"
     ]
    },
    {
     "data": {
      "text/html": [
       "<div>\n",
       "<style scoped>\n",
       "    .dataframe tbody tr th:only-of-type {\n",
       "        vertical-align: middle;\n",
       "    }\n",
       "\n",
       "    .dataframe tbody tr th {\n",
       "        vertical-align: top;\n",
       "    }\n",
       "\n",
       "    .dataframe thead th {\n",
       "        text-align: right;\n",
       "    }\n",
       "</style>\n",
       "<table border=\"1\" class=\"dataframe\">\n",
       "  <thead>\n",
       "    <tr style=\"text-align: right;\">\n",
       "      <th></th>\n",
       "      <th>Question</th>\n",
       "      <th>Output</th>\n",
       "    </tr>\n",
       "  </thead>\n",
       "  <tbody>\n",
       "    <tr>\n",
       "      <th>0</th>\n",
       "      <td>Question</td>\n",
       "      <td>Output</td>\n",
       "    </tr>\n",
       "    <tr>\n",
       "      <th>1</th>\n",
       "      <td>Which NFL team represented the AFC at Super Bo...</td>\n",
       "      <td>[0.99980164, 0.00019750587, 8.0294325e-07]</td>\n",
       "    </tr>\n",
       "    <tr>\n",
       "      <th>2</th>\n",
       "      <td>Which NFL team represented the NFC at Super Bo...</td>\n",
       "      <td>[0.99980164, 0.00019750587, 8.0294325e-07]</td>\n",
       "    </tr>\n",
       "    <tr>\n",
       "      <th>3</th>\n",
       "      <td>Where did Super Bowl 50 take place?</td>\n",
       "      <td>[0.9999556, 4.4455224e-05, 4.1905178e-08]</td>\n",
       "    </tr>\n",
       "    <tr>\n",
       "      <th>4</th>\n",
       "      <td>Which NFL team won Super Bowl 50?</td>\n",
       "      <td>[0.999914, 8.580183e-05, 2.4326658e-07]</td>\n",
       "    </tr>\n",
       "  </tbody>\n",
       "</table>\n",
       "</div>"
      ],
      "text/plain": [
       "                                            Question  \\\n",
       "0                                           Question   \n",
       "1  Which NFL team represented the AFC at Super Bo...   \n",
       "2  Which NFL team represented the NFC at Super Bo...   \n",
       "3                Where did Super Bowl 50 take place?   \n",
       "4                  Which NFL team won Super Bowl 50?   \n",
       "\n",
       "                                       Output  \n",
       "0                                      Output  \n",
       "1  [0.99980164, 0.00019750587, 8.0294325e-07]  \n",
       "2  [0.99980164, 0.00019750587, 8.0294325e-07]  \n",
       "3   [0.9999556, 4.4455224e-05, 4.1905178e-08]  \n",
       "4     [0.999914, 8.580183e-05, 2.4326658e-07]  "
      ]
     },
     "execution_count": 3,
     "metadata": {},
     "output_type": "execute_result"
    }
   ],
   "source": [
    "\n",
    "# Import necessary libraries\n",
    "import pandas as pd\n",
    "import great_expectations as ge\n",
    "\n",
    "# Define column names\n",
    "col_names = ['Question', 'Output']\n",
    "\n",
    "# Read data, add headers if needed, and save as new CSV files\n",
    "try:\n",
    "    train = pd.read_csv(\"/Users/lancesanterre/intern_2024/notebooks/questions_outputs.csv\", names=col_names)\n",
    "except FileNotFoundError:\n",
    "    print(\"The file was not found. Please check the file path.\")\n",
    "    exit()\n",
    "\n",
    "# Check if column names are consistent\n",
    "print(\"Train DataFrame columns:\", train.columns)\n",
    "\n",
    "# Create Great Expectations datasets from the Pandas DataFrames\n",
    "train_df = ge.dataset.PandasDataset(train)\n",
    "    # Display the first few rows of the Great Expectations dataset\n",
    "train_df.head()\n",
    "\n"
   ]
  },
  {
   "cell_type": "code",
   "execution_count": null,
   "metadata": {},
   "outputs": [],
   "source": []
  }
 ],
 "metadata": {
  "kernelspec": {
   "display_name": "intern",
   "language": "python",
   "name": "python3"
  },
  "language_info": {
   "codemirror_mode": {
    "name": "ipython",
    "version": 3
   },
   "file_extension": ".py",
   "mimetype": "text/x-python",
   "name": "python",
   "nbconvert_exporter": "python",
   "pygments_lexer": "ipython3",
   "version": "3.12.4"
  },
  "orig_nbformat": 4
 },
 "nbformat": 4,
 "nbformat_minor": 2
}
